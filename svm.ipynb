{
 "cells": [
  {
   "cell_type": "markdown",
   "metadata": {},
   "source": [
    "### Support Vector Machine\n",
    "##### By MMA"
   ]
  },
  {
   "cell_type": "code",
   "execution_count": 1,
   "metadata": {
    "collapsed": true
   },
   "outputs": [],
   "source": [
    "import numpy as np"
   ]
  },
  {
   "cell_type": "markdown",
   "metadata": {},
   "source": [
    "### A) Form primal SVM as a QP problem"
   ]
  },
  {
   "cell_type": "markdown",
   "metadata": {},
   "source": [
    "<img src=\"equ/Capture11.PNG\">"
   ]
  },
  {
   "cell_type": "markdown",
   "metadata": {},
   "source": [
    "<img src=\"equ/Capture12.PNG\">"
   ]
  },
  {
   "cell_type": "markdown",
   "metadata": {},
   "source": [
    "** yi must be multiplied to <Xi,1>. A and b is zero!"
   ]
  },
  {
   "cell_type": "markdown",
   "metadata": {},
   "source": [
    "### B) Solve SVM primal form using cvxopt.solvers.qp"
   ]
  },
  {
   "cell_type": "markdown",
   "metadata": {},
   "source": [
    "We concatenate w , b and $\\xi$ to a vector named Z"
   ]
  },
  {
   "cell_type": "code",
   "execution_count": 2,
   "metadata": {},
   "outputs": [],
   "source": [
    "from cvxopt import matrix, solvers"
   ]
  },
  {
   "cell_type": "code",
   "execution_count": null,
   "metadata": {},
   "outputs": [],
   "source": [
    "def generate_linear_separable_data():\n",
    "    # generate training data in the 2-d case\n",
    "    mean1 = np.array([0, 2])\n",
    "    mean2 = np.array([2, 0])\n",
    "    cov = np.array([[0.8, 0.6], [0.6, 0.8]])\n",
    "    X1 = np.random.multivariate_normal(mean1, cov, 100)\n",
    "    y1 = np.ones(len(X1))\n",
    "    X2 = np.random.multivariate_normal(mean2, cov, 100)\n",
    "    y2 = np.ones(len(X2)) * -1\n",
    "    return X1, y1, X2, y2\n"
   ]
  },
  {
   "cell_type": "code",
   "execution_count": 4,
   "metadata": {},
   "outputs": [],
   "source": [
    "X1, y1, X2, y2 = generate_linear_separable_data()\n",
    "X_train = np.concatenate((X1[:80], X2[:80]))\n",
    "y_train = np.concatenate((y1[:80], y2[:80]))\n",
    "X_test = np.concatenate((X1[80:], X2[80:]))\n",
    "y_test = np.concatenate((y1[80:], y2[80:]))"
   ]
  },
  {
   "cell_type": "code",
   "execution_count": 6,
   "metadata": {},
   "outputs": [],
   "source": [
    "C = 0.5\n",
    "N = 160\n",
    "d = 2\n",
    "z_dim = N + d + 1"
   ]
  },
  {
   "cell_type": "code",
   "execution_count": 7,
   "metadata": {},
   "outputs": [],
   "source": [
    "\n",
    "P = matrix(0, (z_dim, z_dim), 'd')\n",
    "P[0, 0] = P[1, 1] = 1"
   ]
  },
  {
   "cell_type": "code",
   "execution_count": 8,
   "metadata": {},
   "outputs": [],
   "source": [
    "q = matrix(0, (z_dim, 1), 'd')\n",
    "for i in range(3, z_dim):\n",
    "    q[i] = C"
   ]
  },
  {
   "cell_type": "code",
   "execution_count": 9,
   "metadata": {},
   "outputs": [],
   "source": [
    "G = matrix(0, (2 * N, N + 2 + 1), 'd')\n",
    "for i in range(N):\n",
    "    G[i, 2 + 1 + i] = -1\n",
    "    G[N + i, 2 + 1 + i] = -1\n",
    "    G[i, 2] = -1 * y_train[i]\n",
    "for i in range(N):\n",
    "    for j in range(2):\n",
    "        G[i, j] = X_train[i, j] * -1 * y_train[i]\n"
   ]
  },
  {
   "cell_type": "code",
   "execution_count": 11,
   "metadata": {},
   "outputs": [],
   "source": [
    "h = matrix(0, (2 * N, 1), 'd')\n",
    "for i in range(N):\n",
    "    h[i] = -1\n"
   ]
  },
  {
   "cell_type": "code",
   "execution_count": 12,
   "metadata": {},
   "outputs": [
    {
     "name": "stdout",
     "output_type": "stream",
     "text": [
      "     pcost       dcost       gap    pres   dres\n 0: -3.5063e+01  1.2519e+02  9e+02  3e+00  5e+01\n 1:  6.1138e+01 -5.2518e+01  1e+02  3e-01  5e+00\n 2:  9.0098e+00 -1.1603e+00  1e+01  1e-02  2e-01\n 3:  2.9478e+00  9.3321e-01  2e+00  2e-03  4e-02\n 4:  2.4094e+00  1.2647e+00  1e+00  8e-04  2e-02\n 5:  2.0480e+00  1.4137e+00  7e-01  3e-04  6e-03\n 6:  1.7454e+00  1.6113e+00  1e-01  1e-05  2e-04\n 7:  1.6655e+00  1.6623e+00  3e-03  3e-07  5e-06\n 8:  1.6636e+00  1.6635e+00  5e-05  4e-09  7e-08\n 9:  1.6636e+00  1.6636e+00  5e-07  4e-11  7e-10\nOptimal solution found.\n"
     ]
    }
   ],
   "source": [
    "sol = solvers.qp(P, q, G, h)\n",
    "Z_opt = sol['x']\n"
   ]
  },
  {
   "cell_type": "code",
   "execution_count": 13,
   "metadata": {},
   "outputs": [],
   "source": [
    "w = Z_opt[:d]\n",
    "b = Z_opt[d]\n",
    "y_predict = []\n",
    "for i in range(40):\n",
    "    y_predict.append(np.sign(np.matmul(np.transpose(w), X_test[i]) + b))"
   ]
  },
  {
   "cell_type": "code",
   "execution_count": null,
   "metadata": {},
   "outputs": [],
   "source": [
    "from sklearn.metrics import accuracy_score\n",
    "accuracy_score(y_test, y_predict)"
   ]
  },
  {
   "cell_type": "markdown",
   "metadata": {},
   "source": [
    "### C ) Why strong duality is satisfied?"
   ]
  },
  {
   "cell_type": "markdown",
   "metadata": {},
   "source": [
    "The problem is a QP form thus is a convex problem. On the other hand Slatter's conditions is satisfed because for a data classified correctly but is inside margin, inequality constraint is inactive."
   ]
  },
  {
   "cell_type": "markdown",
   "metadata": {},
   "source": [
    "### D) Obtain KKT conditions for this problem."
   ]
  },
  {
   "cell_type": "markdown",
   "metadata": {},
   "source": [
    "<img src=\"equ/Capture.PNG\">"
   ]
  },
  {
   "cell_type": "markdown",
   "metadata": {},
   "source": [
    "### E) Derive dual form of SVM"
   ]
  },
  {
   "cell_type": "markdown",
   "metadata": {},
   "source": [
    "Get derivative from Lagrangian obtained above :"
   ]
  },
  {
   "cell_type": "markdown",
   "metadata": {},
   "source": [
    "<img src=\"equ/Capture5.PNG\">"
   ]
  },
  {
   "cell_type": "markdown",
   "metadata": {},
   "source": [
    "By substituting w and C to Lagrangian we obtain dual function g hence dual problem."
   ]
  },
  {
   "cell_type": "markdown",
   "metadata": {},
   "source": [
    "### F) Obtain optimal w,b based on a"
   ]
  },
  {
   "cell_type": "markdown",
   "metadata": {},
   "source": [
    "<img src=\"equ/Capture3.PNG\">"
   ]
  },
  {
   "cell_type": "markdown",
   "metadata": {},
   "source": [
    "Each of the samples that has a > 0 is on the margin , thus we solve for b using any of support vectors :"
   ]
  },
  {
   "cell_type": "markdown",
   "metadata": {},
   "source": [
    "<img src=\"equ/Capture4.PNG\">"
   ]
  },
  {
   "cell_type": "markdown",
   "metadata": {},
   "source": [
    "### G) Prove that gram matrice for RBF kernel is P.S.D."
   ]
  },
  {
   "cell_type": "markdown",
   "metadata": {},
   "source": [
    "Gram matrice is symmetric thus we could prove that all of eigenvalues is non-negative. It is sufficient to investigate 2*2 matrices."
   ]
  },
  {
   "cell_type": "markdown",
   "metadata": {},
   "source": [
    "<img src=\"equ/Capture7.PNG\">"
   ]
  },
  {
   "cell_type": "markdown",
   "metadata": {},
   "source": [
    "### F ) Form dual SVM problem as a QP problem"
   ]
  },
  {
   "cell_type": "markdown",
   "metadata": {},
   "source": [
    "<img src=\"equ/Capture10.PNG\">"
   ]
  },
  {
   "cell_type": "markdown",
   "metadata": {},
   "source": [
    "### I ) Implement dual form of SVM using gaussian kernel"
   ]
  },
  {
   "cell_type": "code",
   "execution_count": null,
   "metadata": {},
   "outputs": [],
   "source": [
    "def generate_non_linear_separable_data():\n",
    "    mean1 = [-1, 2]\n",
    "    mean2 = [1, -1]\n",
    "    mean3 = [4, -4]\n",
    "    mean4 = [-4, 4]\n",
    "    cov = [[1.0,0.8], [0.8, 1.0]]\n",
    "    X1 = np.random.multivariate_normal(mean1, cov, 50)\n",
    "    X1 = np.vstack((X1, np.random.multivariate_normal(mean3, cov, 50)))\n",
    "    y1 = np.ones(len(X1))\n",
    "    X2 = np.random.multivariate_normal(mean2, cov, 50)\n",
    "    X2 = np.vstack((X2, np.random.multivariate_normal(mean4, cov, 50)))\n",
    "    y2 = np.ones(len(X2)) * -1\n",
    "    return X1, y1, X2, y2"
   ]
  },
  {
   "cell_type": "code",
   "execution_count": 15,
   "metadata": {},
   "outputs": [],
   "source": [
    "X1, y1, X2, y2 = generate_non_linear_separable_data()\n",
    "X_train = np.concatenate((X1[:80], X2[:80]))\n",
    "y_train = np.concatenate((y1[:80], y2[:80]))\n",
    "X_test = np.concatenate((X1[80:], X2[80:]))\n",
    "y_test = np.concatenate((y1[80:], y2[80:]))"
   ]
  },
  {
   "cell_type": "code",
   "execution_count": 16,
   "metadata": {},
   "outputs": [],
   "source": [
    "diag_y = matrix(0, (n,n), 'd')\n",
    "\n",
    "for i in range(n):\n",
    "  diag_y[i, i] = y_train[i]"
   ]
  },
  {
   "cell_type": "code",
   "execution_count": 28,
   "metadata": {},
   "outputs": [],
   "source": [
    "gamma = 500\n",
    "\n",
    "import math"
   ]
  },
  {
   "cell_type": "code",
   "execution_count": 29,
   "metadata": {},
   "outputs": [
    {
     "data": {
      "text/plain": [
       "<160x160 matrix, tc='d'>"
      ]
     },
     "execution_count": 29,
     "metadata": {},
     "output_type": "execute_result"
    }
   ],
   "source": [
    "Gram = matrix(0, (n,n), 'd')\n",
    "for i in range(n):\n",
    "  for j in range(n):\n",
    "    Gram[i, j] = math.exp(-gamma * (np.linalg.norm (X_train[i]-X_train[j])**2))\n",
    "\n",
    "P = matrix(np.matmul(np.matmul(diag_y, Gram), diag_y.T))\n",
    "\n",
    "P"
   ]
  },
  {
   "cell_type": "code",
   "execution_count": 30,
   "metadata": {},
   "outputs": [],
   "source": [
    "q = matrix(-1, (n,1), 'd')\n",
    "\n",
    "A = matrix(0, (1,n), 'd')\n",
    "for i in range(n):\n",
    "  A[0,i] = y_train[i]\n",
    "\n",
    "b = matrix(0, (1,1), 'd')\n",
    "\n",
    "G = matrix(-1, (2,n), 'd')\n",
    "for i in range(n):\n",
    "  G[1, i] = 1\n",
    "print(G)\n",
    "\n",
    "h = matrix(0, (2,1), 'd')\n",
    "h[1, 0] = C"
   ]
  },
  {
   "cell_type": "code",
   "execution_count": 31,
   "metadata": {},
   "outputs": [
    {
     "name": "stdout",
     "output_type": "stream",
     "text": [
      "     pcost       dcost       gap    pres   dres\n 0: -7.4586e-01 -9.9940e-01  4e+00  2e+00  6e-16\n 1: -4.0653e-01 -8.1799e-01  4e-01  4e-16  8e-16\n 2: -4.7993e-01 -5.0240e-01  2e-02  8e-17  7e-16\n 3: -4.9902e-01 -4.9925e-01  2e-04  2e-16  6e-16\n 4: -4.9921e-01 -4.9921e-01  2e-06  7e-16  4e-16\n 5: -4.9921e-01 -4.9921e-01  2e-08  5e-16  1e-16\nOptimal solution found.\n"
     ]
    }
   ],
   "source": [
    "sol=solvers.qp(P, q, G, h, A, b)\n",
    "alpha = (sol['x'])"
   ]
  },
  {
   "cell_type": "code",
   "execution_count": 32,
   "metadata": {},
   "outputs": [
    {
     "data": {
      "text/plain": [
       "array([[ 0.42528238, -0.34247832]])"
      ]
     },
     "execution_count": 32,
     "metadata": {},
     "output_type": "execute_result"
    }
   ],
   "source": [
    "w = np.zeros((1,2))\n",
    "for i in range(n):\n",
    "  w = w + alpha[i] * y_train[i] * X_train[i]\n",
    "\n",
    "w"
   ]
  },
  {
   "cell_type": "code",
   "execution_count": 33,
   "metadata": {},
   "outputs": [],
   "source": [
    "sv = X_train[np.argmax(alpha)]\n",
    "sv_label = y_train[np.argmax(alpha)]\n",
    "temp = 0\n",
    "for i in range(n):\n",
    "    temp = temp + alpha[i] * y_train[i] * math.exp(-gamma * (np.linalg.norm(X_train[i] - sv) ** 2))\n",
    "b = sv_label - temp"
   ]
  },
  {
   "cell_type": "code",
   "execution_count": 34,
   "metadata": {},
   "outputs": [],
   "source": [
    "y_predict_list = []\n",
    "for i in range(40):\n",
    "    temp = 0\n",
    "    for j in range(n):\n",
    "        temp = temp + alpha[j] * y_train[j] * math.exp(-gamma * (np.linalg.norm(X_train[j] - X_test[i]) ** 2))\n",
    "    if b + temp >= 0:\n",
    "        y_predict = 1\n",
    "    else:\n",
    "        y_predict = -1\n",
    "    y_predict_list.append(y_predict)"
   ]
  },
  {
   "cell_type": "code",
   "execution_count": 36,
   "metadata": {},
   "outputs": [
    {
     "name": "stdout",
     "output_type": "stream",
     "text": [
      "0.5\n"
     ]
    }
   ],
   "source": [
    "index = 0\n",
    "for i in range(40):\n",
    "    if y_predict_list[i] == y_test[i]:\n",
    "        index += 1\n",
    "print(index/40)"
   ]
  },
  {
   "cell_type": "code",
   "execution_count": null,
   "metadata": {},
   "outputs": [],
   "source": [
    "## TODO : correct diag_y -1 to transpose of diag_y , change 1 to -1 in G for primal SVM"
   ]
  }
 ],
 "metadata": {
  "kernelspec": {
   "display_name": "Python 2",
   "language": "python",
   "name": "python2"
  },
  "language_info": {
   "codemirror_mode": {
    "name": "ipython",
    "version": 2
   },
   "file_extension": ".py",
   "mimetype": "text/x-python",
   "name": "python",
   "nbconvert_exporter": "python",
   "pygments_lexer": "ipython2",
   "version": "2.7.6"
  }
 },
 "nbformat": 4,
 "nbformat_minor": 0
}
